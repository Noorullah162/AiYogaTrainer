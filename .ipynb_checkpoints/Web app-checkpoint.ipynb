{
 "cells": [
  {
   "cell_type": "code",
   "execution_count": 2,
   "id": "2e571cc4",
   "metadata": {},
   "outputs": [],
   "source": [
    "from flask import Flask, Response, render_template, request, redirect, url_for,send_from_directory,send_file, session\n",
    "import cv2\n",
    "import os\n",
    "import tensorflow as tf\n",
    "import numpy as np"
   ]
  },
  {
   "cell_type": "code",
   "execution_count": 3,
   "id": "5ede02b5",
   "metadata": {},
   "outputs": [],
   "source": [
    "import enum\n",
    "from typing import List, NamedTuple\n",
    "import numpy as np\n",
    "\n",
    "\n",
    "class BodyPart(enum.Enum):\n",
    "  \"\"\"Enum representing human body keypoints detected by pose estimation models.\"\"\"\n",
    "  NOSE = 0\n",
    "  LEFT_EYE = 1\n",
    "  RIGHT_EYE = 2\n",
    "  LEFT_EAR = 3\n",
    "  RIGHT_EAR = 4\n",
    "  LEFT_SHOULDER = 5\n",
    "  RIGHT_SHOULDER = 6\n",
    "  LEFT_ELBOW = 7\n",
    "  RIGHT_ELBOW = 8\n",
    "  LEFT_WRIST = 9\n",
    "  RIGHT_WRIST = 10\n",
    "  LEFT_HIP = 11\n",
    "  RIGHT_HIP = 12\n",
    "  LEFT_KNEE = 13\n",
    "  RIGHT_KNEE = 14\n",
    "  LEFT_ANKLE = 15\n",
    "  RIGHT_ANKLE = 16\n",
    "    \n",
    "# print(BodyPart.LEFT_ANKLE)\n",
    "\n",
    "edges = {\n",
    "    (0, 1): 'm',\n",
    "    (0, 2): 'c',\n",
    "    (1, 3): 'm',\n",
    "    (2, 4): 'c',\n",
    "    (0, 5): 'm',\n",
    "    (0, 6): 'c',\n",
    "    (5, 7): 'm',\n",
    "    (7, 9): 'm',\n",
    "    (6, 8): 'c',\n",
    "    (8, 10): 'c',\n",
    "    (5, 6): 'y',\n",
    "    (5, 11): 'm',\n",
    "    (6, 12): 'c',\n",
    "    (11, 12): 'y',\n",
    "    (11, 13): 'm',\n",
    "    (13, 15): 'm',\n",
    "    (12, 14): 'c',\n",
    "    (14, 16): 'c'\n",
    "}"
   ]
  },
  {
   "cell_type": "code",
   "execution_count": 4,
   "id": "0303c800",
   "metadata": {},
   "outputs": [],
   "source": [
    "import csv\n",
    "import cv2\n",
    "import itertools\n",
    "import numpy as np\n",
    "import pandas as pd\n",
    "import os\n",
    "import sys\n",
    "import tempfile\n",
    "import tqdm\n",
    "import wget\n",
    "from matplotlib import pyplot as plt\n",
    "from matplotlib.collections import LineCollection\n",
    "\n",
    "import tensorflow as tf\n",
    "import tensorflow_hub as hub\n",
    "from tensorflow import keras\n",
    "import matplotlib.pyplot as plt\n",
    "\n",
    "from sklearn.model_selection import train_test_split\n",
    "from sklearn.metrics import accuracy_score, classification_report, confusion_matrix"
   ]
  },
  {
   "cell_type": "code",
   "execution_count": 5,
   "id": "e43866af",
   "metadata": {},
   "outputs": [
    {
     "name": "stderr",
     "output_type": "stream",
     "text": [
      "'wget' is not recognized as an internal or external command,\n",
      "operable program or batch file.\n",
      "fatal: destination path 'examples' already exists and is not an empty directory.\n"
     ]
    }
   ],
   "source": [
    "!wget -q -O movenet_thunder.tflite https://tfhub.dev/google/lite-model/movenet/singlepose/thunder/tflite/float16/4?lite-format=tflite\n",
    "!git clone https://github.com/tensorflow/examples.git\n",
    "pose_sample_rpi_path = os.path.join(os.getcwd(), 'examples/lite/examples/pose_estimation/raspberry_pi')\n",
    "sys.path.append(pose_sample_rpi_path)\n",
    "\n",
    "# Load MoveNet Thunder model\n",
    "import utils\n",
    "from data import BodyPart\n",
    "from ml import Movenet\n",
    "import os\n",
    "movenet = Movenet('movenet_thunder')\n",
    "\n",
    "# Define function to run pose estimation using MoveNet Thunder.\n",
    "# You'll apply MoveNet's cropping algorithm and run inference multiple times on\n",
    "# the input image to improve pose estimation accuracy.\n",
    "def detect(input_image, inference_count=3):\n",
    "    \"\"\"Runs detection on an input image.\n",
    "      Args:\n",
    "        input_tensor: A [height, width, 3] Tensor of type tf.float32.\n",
    "          Note that height and width can be anything since the image will be\n",
    "          immediately resized according to the needs of the model within this\n",
    "          function.\n",
    "        inference_count: Number of times the model should run repeatly on the\n",
    "          same input image to improve detection accuracy.\n",
    "\n",
    "      Returns:\n",
    "        A Person entity detected by the MoveNet.SinglePose.\n",
    "    \"\"\"\n",
    "    image_height, image_width, channel = input_image.shape\n",
    "\n",
    "    # Detect pose using the full input image\n",
    "    movenet.detect(input_image, reset_crop_region=True)\n",
    "\n",
    "    # Repeatedly using previous detection result to identify the region of\n",
    "    # interest and only croping that region to improve detection accuracy\n",
    "    for _ in range(inference_count - 1):\n",
    "        person = movenet.detect(input_image,reset_crop_region=False)\n",
    "\n",
    "    return person"
   ]
  },
  {
   "cell_type": "code",
   "execution_count": 6,
   "id": "7da7c6e8",
   "metadata": {},
   "outputs": [],
   "source": [
    "import os\n",
    "import tensorflow as tf\n",
    "import csv\n",
    "import pandas as pd\n",
    "from tensorflow import keras\n",
    "import tensorflow as tf\n",
    "\n",
    "\n",
    "\n",
    "def get_center_point(landmarks, left_bodypart, right_bodypart):\n",
    "    \"\"\"Calculates the center point of the two given landmarks.\"\"\"\n",
    "    left = tf.gather(landmarks, left_bodypart.value, axis=1)\n",
    "    right = tf.gather(landmarks, right_bodypart.value, axis=1)\n",
    "    center = left * 0.5 + right * 0.5\n",
    "    return center\n",
    "\n",
    "\n",
    "def get_pose_size(landmarks, torso_size_multiplier=2.5):\n",
    "    \"\"\"Calculates pose size.\n",
    "\n",
    "    It is the maximum of two values:\n",
    "    * Torso size multiplied by `torso_size_multiplier`\n",
    "    * Maximum distance from pose center to any pose landmark\n",
    "    \"\"\"\n",
    "    # Hips center\n",
    "    hips_center = get_center_point(landmarks, BodyPart.LEFT_HIP, \n",
    "                                 BodyPart.RIGHT_HIP)\n",
    "\n",
    "    # Shoulders center\n",
    "    shoulders_center = get_center_point(landmarks, BodyPart.LEFT_SHOULDER,\n",
    "                                      BodyPart.RIGHT_SHOULDER)\n",
    "\n",
    "    # Torso size as the minimum body size\n",
    "    torso_size = tf.linalg.norm(shoulders_center - hips_center)\n",
    "    # Pose center\n",
    "    pose_center_new = get_center_point(landmarks, BodyPart.LEFT_HIP, \n",
    "                                     BodyPart.RIGHT_HIP)\n",
    "    pose_center_new = tf.expand_dims(pose_center_new, axis=1)\n",
    "    # Broadcast the pose center to the same size as the landmark vector to\n",
    "    # perform substraction\n",
    "    pose_center_new = tf.broadcast_to(pose_center_new,\n",
    "                                    [tf.size(landmarks) // (17*2), 17, 2])\n",
    "\n",
    "    # Dist to pose center\n",
    "    d = tf.gather(landmarks - pose_center_new, 0, axis=0,\n",
    "                name=\"dist_to_pose_center\")\n",
    "    # Max dist to pose center\n",
    "    max_dist = tf.reduce_max(tf.linalg.norm(d, axis=0))\n",
    "\n",
    "    # Normalize scale\n",
    "    pose_size = tf.maximum(torso_size * torso_size_multiplier, max_dist)\n",
    "    return pose_size\n",
    "\n",
    "\n",
    "\n",
    "def normalize_pose_landmarks(landmarks):\n",
    "    \"\"\"Normalizes the landmarks translation by moving the pose center to (0,0) and\n",
    "    scaling it to a constant pose size.\n",
    "  \"\"\"\n",
    "  # Move landmarks so that the pose center becomes (0,0)\n",
    "    pose_center = get_center_point(landmarks, BodyPart.LEFT_HIP, \n",
    "                                 BodyPart.RIGHT_HIP)\n",
    "\n",
    "    pose_center = tf.expand_dims(pose_center, axis=1)\n",
    "    # Broadcast the pose center to the same size as the landmark vector to perform\n",
    "    # substraction\n",
    "    pose_center = tf.broadcast_to(pose_center, \n",
    "                                [tf.size(landmarks) // (17*2), 17, 2])\n",
    "    landmarks = landmarks - pose_center\n",
    "\n",
    "    # Scale the landmarks to a constant pose size\n",
    "    pose_size = get_pose_size(landmarks)\n",
    "    landmarks /= pose_size\n",
    "    return landmarks\n",
    "\n",
    "\n",
    "def landmarks_to_embedding(landmarks_and_scores):\n",
    "    \"\"\"Converts the input landmarks into a pose embedding.\"\"\"\n",
    "    # Reshape the flat input into a matrix with shape=(17, 3)\n",
    "    reshaped_inputs = keras.layers.Reshape((17, 3))(landmarks_and_scores)\n",
    "\n",
    "    # Normalize landmarks 2D\n",
    "    landmarks = normalize_pose_landmarks(reshaped_inputs[:, :, :2])\n",
    "    # Flatten the normalized landmark coordinates into a vector\n",
    "    embedding = keras.layers.Flatten()(landmarks)\n",
    "    return embedding\n",
    "\n",
    "\n",
    "def preprocess_data(data):\n",
    "    embedding = landmarks_to_embedding(data)\n",
    "    t = tf.reshape(embedding, (34))\n",
    "    return t"
   ]
  },
  {
   "cell_type": "code",
   "execution_count": 8,
   "id": "35402df7",
   "metadata": {},
   "outputs": [],
   "source": [
    "from keras.models import load_model\n",
    "import cv2\n",
    "import numpy as np\n",
    "model = load_model('model.h5')"
   ]
  },
  {
   "cell_type": "code",
   "execution_count": 7,
   "id": "1da1d3cc",
   "metadata": {},
   "outputs": [],
   "source": [
    "import cv2\n",
    "import pyttsx3\n",
    "import time\n",
    "import threading\n",
    "import math\n",
    "# # Initialize text-to-speech engine\n",
    "speak = pyttsx3.init()\n",
    "\n",
    "def speak_feedback(msg, engine):\n",
    "    engine.say(msg)\n",
    "    engine.runAndWait()\n",
    "#     time.sleep(3)\n",
    "engine = pyttsx3.init()\n",
    "\n",
    "def calculate_distance(point1, point2):\n",
    "    x1, y1 = point1\n",
    "    x2, y2 = point2\n",
    "    distance = math.sqrt((x2 - x1)**2 + (y2 - y1)**2)\n",
    "    return distance\n",
    "\n",
    "\n",
    "# Function to process a single frame\n",
    "def process_frame(keypoint, frame):\n",
    "    # Preprocess your frame (if needed)\n",
    "    # Example: preprocessed_frame = preprocess_frame(frame)\n",
    "    \n",
    "    # Make prediction\n",
    "    prediction = model.predict(frame)\n",
    "    \n",
    "    # Get predicted label\n",
    "    predicted_label = np.argmax(prediction)\n",
    "    \n",
    "    # Check if predicted label is correct\n",
    "    correct_label = 6  # Replace with the correct label for the image\n",
    "    \n",
    "    print(keypoint)\n",
    "    \n",
    "    print(\"================================\")\n",
    "#     print(keypoint[BodyPart.LEFT_WRIST.value].coordinate.x, keypoint[BodyPart.LEFT_WRIST.value].coordinate.y, \n",
    "#                  keypoint[BodyPart.RIGHT_WRIST.value].coordinate.x, keypoint[BodyPart.RIGHT_WRIST.value].coordinate.y)\n",
    "    if predicted_label != 6:\n",
    "#         draw_connections(img, pose_landmarks, EDGES, 0.4, (0, 0, 255))\n",
    "        handDis = calculate_distance([keypoint[BodyPart.LEFT_WRIST.value].coordinate.x, keypoint[BodyPart.LEFT_WRIST.value].coordinate.y], \n",
    "                 [keypoint[BodyPart.RIGHT_WRIST.value].coordinate.x, keypoint[BodyPart.RIGHT_WRIST.value].coordinate.y])\n",
    "        legDis = calculate_distance([keypoint[BodyPart.LEFT_KNEE.value].coordinate.x, keypoint[BodyPart.LEFT_KNEE.value].coordinate.y], \n",
    "                 [keypoint[BodyPart.RIGHT_ANKLE.value].coordinate.x, keypoint[BodyPart.RIGHT_ANKLE.value].coordinate.y])\n",
    "        print(handDis, legDis)\n",
    "        if(handDis > moving_hands_close):\n",
    "            print(\"move hands close\")\n",
    "#             speak_feedback(predicted_label, \"move hands close\")\n",
    "        print(legDis , moving_leg_close, legDis > moving_leg_close)\n",
    "        if(legDis > moving_leg_close):\n",
    "            print(\"raise up leg\")\n",
    "#             speak_feedback(predicted_label, \"raise up leg\")\n",
    "            \n",
    "    else:\n",
    "        print(\"keep doing\")\n",
    "#         speak_feedback(predicted_label, \"keep doing\")\n",
    "#         draw_connections(img, pose_landmarks, EDGES, 0.4, (0, 255, 0))"
   ]
  },
  {
   "cell_type": "code",
   "execution_count": 16,
   "id": "9efc04e1",
   "metadata": {},
   "outputs": [],
   "source": [
    "import cv2\n",
    "import pyttsx3\n",
    "import time\n",
    "import threading\n",
    "import math\n",
    "\n",
    "engine = pyttsx3.init()\n",
    "def speak_feedback(msg):\n",
    "    print(msg)\n",
    "    engine.say(msg)\n",
    "    engine.runAndWait()\n",
    "    \n",
    "\n",
    "moving_hands_close = 50\n",
    "moving_leg_close = 50\n",
    "\n",
    "\n",
    "\n",
    "def calculate_distance(point1, point2):\n",
    "    x1, y1 = point1\n",
    "    x2, y2 = point2\n",
    "    distance = math.sqrt((x2 - x1)**2 + (y2 - y1)**2)\n",
    "    return distance\n",
    "\n",
    "\n",
    "def webcamlive(posename):\n",
    "    cap=cv2.VideoCapture(0)\n",
    "    # Collect threads for asynchronous feedback\n",
    "    feedback_threads = []\n",
    "    while True:\n",
    "        success, img = cap.read()  # Read frame from the camera\n",
    "        if not success:\n",
    "            break\n",
    "        else:\n",
    "            image = img.copy()\n",
    "            person = movenet.detect(image,reset_crop_region=False)\n",
    "            pose_landmarks = np.array( [[keypoint.coordinate.x, keypoint.coordinate.y, keypoint.score]  for keypoint in person.keypoints], dtype=np.float32)\n",
    "            data = pose_landmarks.flatten().astype(float)\n",
    "            bb_startpoints = (person.bounding_box[0].x, person.bounding_box[0].y)\n",
    "            bb_endpoints = (person.bounding_box[1].x, person.bounding_box[1].y)\n",
    "            color = (255, 0, 0)\n",
    "            thickness = 3\n",
    "            img = cv2.rectangle(img, bb_startpoints, bb_endpoints, color, thickness)\n",
    "            data = np.array(data, dtype=np.float32)\n",
    "            data = np.reshape(data, (1, 51))\n",
    "            processed_data = preprocess_data(data)\n",
    "            reshaped_data = tf.reshape(processed_data, ( -1, 34))\n",
    "            confidence_threshold = 0.4\n",
    "            for edge, colo in edges.items():\n",
    "                p1, p2 = edge\n",
    "                x1, y1, c1 = pose_landmarks[p1]\n",
    "                x2, y2, c2 = pose_landmarks[p2]\n",
    "                if (c1 > confidence_threshold) & (c2 > confidence_threshold):      \n",
    "                    cv2.line(img, (int(x1), int(y1)), (int(x2), int(y2)), (255, 255, 255), 2)\n",
    "\n",
    "            for kp in pose_landmarks:\n",
    "                kx, ky, kp_conf = kp\n",
    "                if kp_conf > confidence_threshold:\n",
    "                    cv2.circle(img, (int(kx), int(ky)), 4, (0,255,0), -1)\n",
    "\n",
    "            prediction = model.predict(reshaped_data)\n",
    "\n",
    "                # Get predicted label\n",
    "            predicted_label = np.argmax(prediction)\n",
    "            keypoint = person.keypoints\n",
    "            # Check if predicted label is correct\n",
    "            correct_label = 6  # Replace with the correct label for the image\n",
    "\n",
    "            print(\"================================\")\n",
    "            if predicted_label != 6:\n",
    "                handDis = calculate_distance([keypoint[BodyPart.LEFT_WRIST.value].coordinate.x, keypoint[BodyPart.LEFT_WRIST.value].coordinate.y], \n",
    "                         [keypoint[BodyPart.RIGHT_WRIST.value].coordinate.x, keypoint[BodyPart.RIGHT_WRIST.value].coordinate.y])\n",
    "                legDis = calculate_distance([keypoint[BodyPart.LEFT_KNEE.value].coordinate.x, keypoint[BodyPart.LEFT_KNEE.value].coordinate.y], \n",
    "                         [keypoint[BodyPart.RIGHT_ANKLE.value].coordinate.x, keypoint[BodyPart.RIGHT_ANKLE.value].coordinate.y])\n",
    "                print(handDis, legDis)\n",
    "                msg = ''\n",
    "                if((handDis > moving_hands_close) and (legDis > moving_leg_close)):\n",
    "                    msg = \"move hands close and raise up leg\"\n",
    "                elif (handDis > moving_hands_close):\n",
    "                    msg = \"move hands close\"\n",
    "                else:\n",
    "                    msg = \"raise up leg\"\n",
    "                    \n",
    "                if(handDis > moving_hands_close):\n",
    "                    print(msg)\n",
    "                    thread = threading.Thread(target=speak_feedback, args=(msg,))\n",
    "                    thread.start()\n",
    "                    feedback_threads.append(thread)\n",
    "                # After the loop finishes, join all threads\n",
    "                for thread in feedback_threads:\n",
    "                    thread.join()\n",
    "                    \n",
    "#                     thread.join()\n",
    "            \n",
    "#             else:\n",
    "#                 thread = threading.Thread(target=speak_feedback, args=(\"keep doing\",))\n",
    "#                 thread.start()\n",
    "#                 print(\"keep doing\")\n",
    "#                     thread.join()\n",
    "            ret, buffer = cv2.imencode('.jpg', img)\n",
    "            img = buffer.tobytes()\n",
    "            yield (b'--frame\\r\\n'\n",
    "                   b'Content-Type: image/jpeg\\r\\n\\r\\n' + img + b'\\r\\n')           "
   ]
  },
  {
   "cell_type": "code",
   "execution_count": null,
   "id": "10989173",
   "metadata": {},
   "outputs": [
    {
     "name": "stdout",
     "output_type": "stream",
     "text": [
      " * Serving Flask app '__main__'\n",
      " * Debug mode: off\n"
     ]
    },
    {
     "name": "stderr",
     "output_type": "stream",
     "text": [
      "WARNING: This is a development server. Do not use it in a production deployment. Use a production WSGI server instead.\n",
      " * Running on http://127.0.0.1:5009\n",
      "Press CTRL+C to quit\n",
      "127.0.0.1 - - [03/May/2024 03:46:39] \"GET / HTTP/1.1\" 200 -\n",
      "127.0.0.1 - - [03/May/2024 03:46:41] \"GET /static/yoga_pose.png HTTP/1.1\" 304 -\n",
      "127.0.0.1 - - [03/May/2024 03:46:41] \"GET /highLightTitle.png HTTP/1.1\" 404 -\n",
      "127.0.0.1 - - [03/May/2024 03:46:43] \"GET /pose HTTP/1.1\" 200 -\n",
      "127.0.0.1 - - [03/May/2024 03:46:43] \"GET /static/tree.jpg HTTP/1.1\" 304 -\n",
      "127.0.0.1 - - [03/May/2024 03:46:43] \"GET /highLightTitle.png HTTP/1.1\" 404 -\n",
      "127.0.0.1 - - [03/May/2024 03:46:45] \"POST /selected_pose HTTP/1.1\" 302 -\n",
      "127.0.0.1 - - [03/May/2024 03:46:45] \"GET /yoga?pose=Tree+Pose HTTP/1.1\" 200 -\n",
      "127.0.0.1 - - [03/May/2024 03:46:45] \"GET /static/Tree.jpg HTTP/1.1\" 304 -\n"
     ]
    },
    {
     "name": "stdout",
     "output_type": "stream",
     "text": [
      "Tree\n",
      "helloworld Tree Pose\n"
     ]
    },
    {
     "name": "stderr",
     "output_type": "stream",
     "text": [
      "127.0.0.1 - - [03/May/2024 03:46:45] \"GET /highLightTitle.png HTTP/1.1\" 404 -\n"
     ]
    },
    {
     "name": "stdout",
     "output_type": "stream",
     "text": [
      "1/1 [==============================] - 0s 51ms/step\n"
     ]
    },
    {
     "name": "stderr",
     "output_type": "stream",
     "text": [
      "127.0.0.1 - - [03/May/2024 03:46:49] \"GET /video_feed/Tree%20Pose HTTP/1.1\" 200 -\n"
     ]
    },
    {
     "name": "stdout",
     "output_type": "stream",
     "text": [
      "================================\n",
      "12.041594578792296 76.15773105863909\n",
      "1/1 [==============================] - 0s 49ms/step\n"
     ]
    },
    {
     "name": "stderr",
     "output_type": "stream",
     "text": [
      "Exception in thread Thread-398 (speak_feedback):\n",
      "Traceback (most recent call last):\n",
      "  File \"C:\\Users\\HP\\AppData\\Local\\Programs\\Python\\Python310\\lib\\threading.py\", line 1016, in _bootstrap_inner\n",
      "    self.run()\n",
      "  File \"C:\\Users\\HP\\AppData\\Local\\Programs\\Python\\Python310\\lib\\threading.py\", line 953, in run\n",
      "    self._target(*self._args, **self._kwargs)\n",
      "  File \"C:\\Users\\HP\\AppData\\Local\\Temp\\ipykernel_26220\\1796462705.py\", line 11, in speak_feedback\n",
      "  File \"C:\\Users\\HP\\AppData\\Local\\Programs\\Python\\Python310\\lib\\site-packages\\pyttsx3\\engine.py\", line 177, in runAndWait\n",
      "    raise RuntimeError('run loop already started')\n",
      "RuntimeError: run loop already started\n"
     ]
    },
    {
     "name": "stdout",
     "output_type": "stream",
     "text": [
      "================================\n",
      "99.40321926376429 75.47184905645283\n",
      "move hands close and raise up leg\n",
      "move hands close and raise up leg\n",
      "1/1 [==============================] - 0s 39ms/step\n"
     ]
    },
    {
     "name": "stderr",
     "output_type": "stream",
     "text": [
      "Exception in thread Thread-399 (speak_feedback):\n",
      "Traceback (most recent call last):\n",
      "  File \"C:\\Users\\HP\\AppData\\Local\\Programs\\Python\\Python310\\lib\\threading.py\", line 1016, in _bootstrap_inner\n",
      "    self.run()\n",
      "  File \"C:\\Users\\HP\\AppData\\Local\\Programs\\Python\\Python310\\lib\\threading.py\", line 953, in run\n",
      "    self._target(*self._args, **self._kwargs)\n",
      "  File \"C:\\Users\\HP\\AppData\\Local\\Temp\\ipykernel_26220\\1796462705.py\", line 11, in speak_feedback\n",
      "  File \"C:\\Users\\HP\\AppData\\Local\\Programs\\Python\\Python310\\lib\\site-packages\\pyttsx3\\engine.py\", line 177, in runAndWait\n",
      "    raise RuntimeError('run loop already started')\n",
      "RuntimeError: run loop already started\n"
     ]
    },
    {
     "name": "stdout",
     "output_type": "stream",
     "text": [
      "================================\n",
      "153.39491516996253 134.3800580443393\n",
      "move hands close and raise up leg\n",
      "move hands close and raise up leg\n",
      "1/1 [==============================] - 0s 41ms/step\n"
     ]
    },
    {
     "name": "stderr",
     "output_type": "stream",
     "text": [
      "Exception in thread Thread-400 (speak_feedback):\n",
      "Traceback (most recent call last):\n",
      "  File \"C:\\Users\\HP\\AppData\\Local\\Programs\\Python\\Python310\\lib\\threading.py\", line 1016, in _bootstrap_inner\n",
      "    self.run()\n",
      "  File \"C:\\Users\\HP\\AppData\\Local\\Programs\\Python\\Python310\\lib\\threading.py\", line 953, in run\n",
      "    self._target(*self._args, **self._kwargs)\n",
      "  File \"C:\\Users\\HP\\AppData\\Local\\Temp\\ipykernel_26220\\1796462705.py\", line 11, in speak_feedback\n",
      "  File \"C:\\Users\\HP\\AppData\\Local\\Programs\\Python\\Python310\\lib\\site-packages\\pyttsx3\\engine.py\", line 177, in runAndWait\n",
      "    raise RuntimeError('run loop already started')\n",
      "RuntimeError: run loop already started\n"
     ]
    },
    {
     "name": "stdout",
     "output_type": "stream",
     "text": [
      "================================\n",
      "50.08991914547278 91.7877987534291\n",
      "move hands close and raise up leg\n",
      "move hands close and raise up leg\n",
      "1/1 [==============================] - 0s 43ms/step\n"
     ]
    },
    {
     "name": "stderr",
     "output_type": "stream",
     "text": [
      "Exception in thread Thread-401 (speak_feedback):\n",
      "Traceback (most recent call last):\n",
      "  File \"C:\\Users\\HP\\AppData\\Local\\Programs\\Python\\Python310\\lib\\threading.py\", line 1016, in _bootstrap_inner\n",
      "    self.run()\n",
      "  File \"C:\\Users\\HP\\AppData\\Local\\Programs\\Python\\Python310\\lib\\threading.py\", line 953, in run\n",
      "    self._target(*self._args, **self._kwargs)\n",
      "  File \"C:\\Users\\HP\\AppData\\Local\\Temp\\ipykernel_26220\\1796462705.py\", line 11, in speak_feedback\n",
      "  File \"C:\\Users\\HP\\AppData\\Local\\Programs\\Python\\Python310\\lib\\site-packages\\pyttsx3\\engine.py\", line 177, in runAndWait\n",
      "    raise RuntimeError('run loop already started')\n",
      "RuntimeError: run loop already started\n"
     ]
    },
    {
     "name": "stdout",
     "output_type": "stream",
     "text": [
      "================================\n",
      "62.03224967708329 108.664621657649\n",
      "move hands close and raise up leg\n",
      "move hands close and raise up leg\n",
      "1/1 [==============================] - 0s 42ms/step\n"
     ]
    },
    {
     "name": "stderr",
     "output_type": "stream",
     "text": [
      "Exception in thread Thread-402 (speak_feedback):\n",
      "Traceback (most recent call last):\n",
      "  File \"C:\\Users\\HP\\AppData\\Local\\Programs\\Python\\Python310\\lib\\threading.py\", line 1016, in _bootstrap_inner\n",
      "    self.run()\n",
      "  File \"C:\\Users\\HP\\AppData\\Local\\Programs\\Python\\Python310\\lib\\threading.py\", line 953, in run\n",
      "    self._target(*self._args, **self._kwargs)\n",
      "  File \"C:\\Users\\HP\\AppData\\Local\\Temp\\ipykernel_26220\\1796462705.py\", line 11, in speak_feedback\n",
      "  File \"C:\\Users\\HP\\AppData\\Local\\Programs\\Python\\Python310\\lib\\site-packages\\pyttsx3\\engine.py\", line 177, in runAndWait\n",
      "    raise RuntimeError('run loop already started')\n",
      "RuntimeError: run loop already started\n"
     ]
    },
    {
     "name": "stdout",
     "output_type": "stream",
     "text": [
      "================================\n",
      "61.35144660071187 113.07077429645558\n",
      "move hands close and raise up leg\n",
      "move hands close and raise up leg\n",
      "1/1 [==============================] - 0s 43ms/step\n",
      "================================\n",
      "17.26267650163207 114.21471008587291\n",
      "1/1 [==============================] - 0s 40ms/step\n",
      "================================\n",
      "16.492422502470642 101.59724405711013\n",
      "1/1 [==============================] - 0s 43ms/step\n",
      "================================\n",
      "15.132745950421556 109.1146186356347\n",
      "1/1 [==============================] - 0s 43ms/step\n",
      "================================\n",
      "15.033296378372908 107.11675872616759\n",
      "1/1 [==============================] - 0s 47ms/step\n",
      "================================\n",
      "30.083217912982647 119.21828718783037\n",
      "1/1 [==============================] - 0s 40ms/step\n"
     ]
    },
    {
     "name": "stderr",
     "output_type": "stream",
     "text": [
      "Exception in thread Thread-403 (speak_feedback):\n",
      "Traceback (most recent call last):\n",
      "  File \"C:\\Users\\HP\\AppData\\Local\\Programs\\Python\\Python310\\lib\\threading.py\", line 1016, in _bootstrap_inner\n",
      "    self.run()\n",
      "  File \"C:\\Users\\HP\\AppData\\Local\\Programs\\Python\\Python310\\lib\\threading.py\", line 953, in run\n",
      "    self._target(*self._args, **self._kwargs)\n",
      "  File \"C:\\Users\\HP\\AppData\\Local\\Temp\\ipykernel_26220\\1796462705.py\", line 11, in speak_feedback\n",
      "  File \"C:\\Users\\HP\\AppData\\Local\\Programs\\Python\\Python310\\lib\\site-packages\\pyttsx3\\engine.py\", line 177, in runAndWait\n",
      "    raise RuntimeError('run loop already started')\n",
      "RuntimeError: run loop already started\n"
     ]
    },
    {
     "name": "stdout",
     "output_type": "stream",
     "text": [
      "================================\n",
      "81.02468759581859 143.7358688706476\n",
      "move hands close and raise up leg\n",
      "move hands close and raise up leg\n",
      "1/1 [==============================] - 0s 46ms/step\n"
     ]
    },
    {
     "name": "stderr",
     "output_type": "stream",
     "text": [
      "Exception in thread Thread-404 (speak_feedback):\n",
      "Traceback (most recent call last):\n",
      "  File \"C:\\Users\\HP\\AppData\\Local\\Programs\\Python\\Python310\\lib\\threading.py\", line 1016, in _bootstrap_inner\n",
      "    self.run()\n",
      "  File \"C:\\Users\\HP\\AppData\\Local\\Programs\\Python\\Python310\\lib\\threading.py\", line 953, in run\n",
      "    self._target(*self._args, **self._kwargs)\n",
      "  File \"C:\\Users\\HP\\AppData\\Local\\Temp\\ipykernel_26220\\1796462705.py\", line 11, in speak_feedback\n",
      "  File \"C:\\Users\\HP\\AppData\\Local\\Programs\\Python\\Python310\\lib\\site-packages\\pyttsx3\\engine.py\", line 177, in runAndWait\n",
      "    raise RuntimeError('run loop already started')\n",
      "RuntimeError: run loop already started\n"
     ]
    },
    {
     "name": "stdout",
     "output_type": "stream",
     "text": [
      "================================\n",
      "128.1327436684316 122.67436570041843\n",
      "move hands close and raise up leg\n",
      "move hands close and raise up leg\n",
      "1/1 [==============================] - 0s 45ms/step\n"
     ]
    },
    {
     "name": "stderr",
     "output_type": "stream",
     "text": [
      "Exception in thread Thread-405 (speak_feedback):\n",
      "Traceback (most recent call last):\n",
      "  File \"C:\\Users\\HP\\AppData\\Local\\Programs\\Python\\Python310\\lib\\threading.py\", line 1016, in _bootstrap_inner\n",
      "    self.run()\n",
      "  File \"C:\\Users\\HP\\AppData\\Local\\Programs\\Python\\Python310\\lib\\threading.py\", line 953, in run\n",
      "    self._target(*self._args, **self._kwargs)\n",
      "  File \"C:\\Users\\HP\\AppData\\Local\\Temp\\ipykernel_26220\\1796462705.py\", line 11, in speak_feedback\n",
      "  File \"C:\\Users\\HP\\AppData\\Local\\Programs\\Python\\Python310\\lib\\site-packages\\pyttsx3\\engine.py\", line 177, in runAndWait\n",
      "    raise RuntimeError('run loop already started')\n",
      "RuntimeError: run loop already started\n"
     ]
    },
    {
     "name": "stdout",
     "output_type": "stream",
     "text": [
      "================================\n",
      "70.32780389006896 107.37783756436893\n",
      "move hands close and raise up leg\n",
      "move hands close and raise up leg\n",
      "1/1 [==============================] - 0s 42ms/step\n"
     ]
    },
    {
     "name": "stderr",
     "output_type": "stream",
     "text": [
      "Exception in thread Thread-406 (speak_feedback):\n",
      "Traceback (most recent call last):\n",
      "  File \"C:\\Users\\HP\\AppData\\Local\\Programs\\Python\\Python310\\lib\\threading.py\", line 1016, in _bootstrap_inner\n",
      "    self.run()\n",
      "  File \"C:\\Users\\HP\\AppData\\Local\\Programs\\Python\\Python310\\lib\\threading.py\", line 953, in run\n",
      "    self._target(*self._args, **self._kwargs)\n",
      "  File \"C:\\Users\\HP\\AppData\\Local\\Temp\\ipykernel_26220\\1796462705.py\", line 11, in speak_feedback\n",
      "  File \"C:\\Users\\HP\\AppData\\Local\\Programs\\Python\\Python310\\lib\\site-packages\\pyttsx3\\engine.py\", line 177, in runAndWait\n",
      "    raise RuntimeError('run loop already started')\n",
      "RuntimeError: run loop already started\n"
     ]
    },
    {
     "name": "stdout",
     "output_type": "stream",
     "text": [
      "================================\n",
      "81.54140052758476 80.30566605165541\n",
      "move hands close and raise up leg\n",
      "move hands close and raise up leg\n",
      "1/1 [==============================] - 0s 42ms/step\n"
     ]
    },
    {
     "name": "stderr",
     "output_type": "stream",
     "text": [
      "Exception in thread Thread-407 (speak_feedback):\n",
      "Traceback (most recent call last):\n",
      "  File \"C:\\Users\\HP\\AppData\\Local\\Programs\\Python\\Python310\\lib\\threading.py\", line 1016, in _bootstrap_inner\n",
      "    self.run()\n",
      "  File \"C:\\Users\\HP\\AppData\\Local\\Programs\\Python\\Python310\\lib\\threading.py\", line 953, in run\n",
      "    self._target(*self._args, **self._kwargs)\n",
      "  File \"C:\\Users\\HP\\AppData\\Local\\Temp\\ipykernel_26220\\1796462705.py\", line 11, in speak_feedback\n",
      "  File \"C:\\Users\\HP\\AppData\\Local\\Programs\\Python\\Python310\\lib\\site-packages\\pyttsx3\\engine.py\", line 177, in runAndWait\n",
      "    raise RuntimeError('run loop already started')\n",
      "RuntimeError: run loop already started\n"
     ]
    },
    {
     "name": "stdout",
     "output_type": "stream",
     "text": [
      "================================\n",
      "104.20172743289815 114.49017425089369\n",
      "move hands close and raise up leg\n",
      "move hands close and raise up leg\n",
      "1/1 [==============================] - 0s 43ms/step\n"
     ]
    },
    {
     "name": "stderr",
     "output_type": "stream",
     "text": [
      "Exception in thread Thread-408 (speak_feedback):\n",
      "Traceback (most recent call last):\n",
      "  File \"C:\\Users\\HP\\AppData\\Local\\Programs\\Python\\Python310\\lib\\threading.py\", line 1016, in _bootstrap_inner\n",
      "    self.run()\n",
      "  File \"C:\\Users\\HP\\AppData\\Local\\Programs\\Python\\Python310\\lib\\threading.py\", line 953, in run\n",
      "    self._target(*self._args, **self._kwargs)\n",
      "  File \"C:\\Users\\HP\\AppData\\Local\\Temp\\ipykernel_26220\\1796462705.py\", line 11, in speak_feedback\n",
      "  File \"C:\\Users\\HP\\AppData\\Local\\Programs\\Python\\Python310\\lib\\site-packages\\pyttsx3\\engine.py\", line 177, in runAndWait\n",
      "    raise RuntimeError('run loop already started')\n",
      "RuntimeError: run loop already started\n"
     ]
    },
    {
     "name": "stdout",
     "output_type": "stream",
     "text": [
      "================================\n",
      "118.68024266911489 129.24782396620841\n",
      "move hands close and raise up leg\n",
      "move hands close and raise up leg\n",
      "1/1 [==============================] - 0s 40ms/step\n"
     ]
    },
    {
     "name": "stderr",
     "output_type": "stream",
     "text": [
      "Exception in thread Thread-409 (speak_feedback):\n",
      "Traceback (most recent call last):\n",
      "  File \"C:\\Users\\HP\\AppData\\Local\\Programs\\Python\\Python310\\lib\\threading.py\", line 1016, in _bootstrap_inner\n",
      "    self.run()\n",
      "  File \"C:\\Users\\HP\\AppData\\Local\\Programs\\Python\\Python310\\lib\\threading.py\", line 953, in run\n",
      "    self._target(*self._args, **self._kwargs)\n",
      "  File \"C:\\Users\\HP\\AppData\\Local\\Temp\\ipykernel_26220\\1796462705.py\", line 11, in speak_feedback\n",
      "  File \"C:\\Users\\HP\\AppData\\Local\\Programs\\Python\\Python310\\lib\\site-packages\\pyttsx3\\engine.py\", line 177, in runAndWait\n",
      "    raise RuntimeError('run loop already started')\n",
      "RuntimeError: run loop already started\n"
     ]
    },
    {
     "name": "stdout",
     "output_type": "stream",
     "text": [
      "================================\n",
      "162.1172415260018 143.75326083258076\n",
      "move hands close and raise up leg\n",
      "move hands close and raise up leg\n",
      "1/1 [==============================] - 0s 46ms/step\n"
     ]
    },
    {
     "name": "stderr",
     "output_type": "stream",
     "text": [
      "Exception in thread Thread-410 (speak_feedback):\n",
      "Traceback (most recent call last):\n",
      "  File \"C:\\Users\\HP\\AppData\\Local\\Programs\\Python\\Python310\\lib\\threading.py\", line 1016, in _bootstrap_inner\n",
      "    self.run()\n",
      "  File \"C:\\Users\\HP\\AppData\\Local\\Programs\\Python\\Python310\\lib\\threading.py\", line 953, in run\n",
      "    self._target(*self._args, **self._kwargs)\n",
      "  File \"C:\\Users\\HP\\AppData\\Local\\Temp\\ipykernel_26220\\1796462705.py\", line 11, in speak_feedback\n",
      "  File \"C:\\Users\\HP\\AppData\\Local\\Programs\\Python\\Python310\\lib\\site-packages\\pyttsx3\\engine.py\", line 177, in runAndWait\n",
      "    raise RuntimeError('run loop already started')\n",
      "RuntimeError: run loop already started\n"
     ]
    },
    {
     "name": "stdout",
     "output_type": "stream",
     "text": [
      "================================\n",
      "176.7766952966369 159.47727110782904\n",
      "move hands close and raise up leg\n",
      "move hands close and raise up leg\n",
      "1/1 [==============================] - 0s 47ms/step\n"
     ]
    },
    {
     "name": "stderr",
     "output_type": "stream",
     "text": [
      "Exception in thread Thread-411 (speak_feedback):\n",
      "Traceback (most recent call last):\n",
      "  File \"C:\\Users\\HP\\AppData\\Local\\Programs\\Python\\Python310\\lib\\threading.py\", line 1016, in _bootstrap_inner\n",
      "    self.run()\n",
      "  File \"C:\\Users\\HP\\AppData\\Local\\Programs\\Python\\Python310\\lib\\threading.py\", line 953, in run\n",
      "    self._target(*self._args, **self._kwargs)\n",
      "  File \"C:\\Users\\HP\\AppData\\Local\\Temp\\ipykernel_26220\\1796462705.py\", line 11, in speak_feedback\n",
      "  File \"C:\\Users\\HP\\AppData\\Local\\Programs\\Python\\Python310\\lib\\site-packages\\pyttsx3\\engine.py\", line 177, in runAndWait\n",
      "    raise RuntimeError('run loop already started')\n",
      "RuntimeError: run loop already started\n"
     ]
    },
    {
     "name": "stdout",
     "output_type": "stream",
     "text": [
      "================================\n",
      "189.7814532561072 162.00308639035245\n",
      "move hands close and raise up leg\n",
      "move hands close and raise up leg\n",
      "1/1 [==============================] - 0s 43ms/step\n"
     ]
    },
    {
     "name": "stderr",
     "output_type": "stream",
     "text": [
      "Exception in thread Thread-412 (speak_feedback):\n",
      "Traceback (most recent call last):\n",
      "  File \"C:\\Users\\HP\\AppData\\Local\\Programs\\Python\\Python310\\lib\\threading.py\", line 1016, in _bootstrap_inner\n",
      "    self.run()\n",
      "  File \"C:\\Users\\HP\\AppData\\Local\\Programs\\Python\\Python310\\lib\\threading.py\", line 953, in run\n",
      "    self._target(*self._args, **self._kwargs)\n",
      "  File \"C:\\Users\\HP\\AppData\\Local\\Temp\\ipykernel_26220\\1796462705.py\", line 11, in speak_feedback\n",
      "  File \"C:\\Users\\HP\\AppData\\Local\\Programs\\Python\\Python310\\lib\\site-packages\\pyttsx3\\engine.py\", line 177, in runAndWait\n",
      "    raise RuntimeError('run loop already started')\n",
      "RuntimeError: run loop already started\n"
     ]
    },
    {
     "name": "stdout",
     "output_type": "stream",
     "text": [
      "================================\n",
      "199.9449924354196 174.73408368146153\n",
      "move hands close and raise up leg\n",
      "move hands close and raise up leg\n",
      "1/1 [==============================] - 0s 46ms/step\n"
     ]
    },
    {
     "name": "stderr",
     "output_type": "stream",
     "text": [
      "Exception in thread Thread-413 (speak_feedback):\n",
      "Traceback (most recent call last):\n",
      "  File \"C:\\Users\\HP\\AppData\\Local\\Programs\\Python\\Python310\\lib\\threading.py\", line 1016, in _bootstrap_inner\n",
      "    self.run()\n",
      "  File \"C:\\Users\\HP\\AppData\\Local\\Programs\\Python\\Python310\\lib\\threading.py\", line 953, in run\n",
      "    self._target(*self._args, **self._kwargs)\n",
      "  File \"C:\\Users\\HP\\AppData\\Local\\Temp\\ipykernel_26220\\1796462705.py\", line 11, in speak_feedback\n",
      "  File \"C:\\Users\\HP\\AppData\\Local\\Programs\\Python\\Python310\\lib\\site-packages\\pyttsx3\\engine.py\", line 177, in runAndWait\n",
      "    raise RuntimeError('run loop already started')\n",
      "RuntimeError: run loop already started\n"
     ]
    },
    {
     "name": "stdout",
     "output_type": "stream",
     "text": [
      "================================\n",
      "166.13849644197458 170.30854353202602\n",
      "move hands close and raise up leg\n",
      "move hands close and raise up leg\n",
      "1/1 [==============================] - 0s 41ms/step\n"
     ]
    },
    {
     "name": "stderr",
     "output_type": "stream",
     "text": [
      "Exception in thread Thread-414 (speak_feedback):\n",
      "Traceback (most recent call last):\n",
      "  File \"C:\\Users\\HP\\AppData\\Local\\Programs\\Python\\Python310\\lib\\threading.py\", line 1016, in _bootstrap_inner\n",
      "    self.run()\n",
      "  File \"C:\\Users\\HP\\AppData\\Local\\Programs\\Python\\Python310\\lib\\threading.py\", line 953, in run\n",
      "    self._target(*self._args, **self._kwargs)\n",
      "  File \"C:\\Users\\HP\\AppData\\Local\\Temp\\ipykernel_26220\\1796462705.py\", line 11, in speak_feedback\n",
      "  File \"C:\\Users\\HP\\AppData\\Local\\Programs\\Python\\Python310\\lib\\site-packages\\pyttsx3\\engine.py\", line 177, in runAndWait\n",
      "    raise RuntimeError('run loop already started')\n",
      "RuntimeError: run loop already started\n"
     ]
    },
    {
     "name": "stdout",
     "output_type": "stream",
     "text": [
      "================================\n",
      "130.13838787997952 144.5856147754679\n",
      "move hands close and raise up leg\n",
      "move hands close and raise up leg\n",
      "1/1 [==============================] - 0s 43ms/step\n"
     ]
    },
    {
     "name": "stderr",
     "output_type": "stream",
     "text": [
      "Exception in thread Thread-415 (speak_feedback):\n",
      "Traceback (most recent call last):\n",
      "  File \"C:\\Users\\HP\\AppData\\Local\\Programs\\Python\\Python310\\lib\\threading.py\", line 1016, in _bootstrap_inner\n",
      "    self.run()\n",
      "  File \"C:\\Users\\HP\\AppData\\Local\\Programs\\Python\\Python310\\lib\\threading.py\", line 953, in run\n",
      "    self._target(*self._args, **self._kwargs)\n",
      "  File \"C:\\Users\\HP\\AppData\\Local\\Temp\\ipykernel_26220\\1796462705.py\", line 11, in speak_feedback\n",
      "  File \"C:\\Users\\HP\\AppData\\Local\\Programs\\Python\\Python310\\lib\\site-packages\\pyttsx3\\engine.py\", line 177, in runAndWait\n",
      "    raise RuntimeError('run loop already started')\n",
      "RuntimeError: run loop already started\n"
     ]
    },
    {
     "name": "stdout",
     "output_type": "stream",
     "text": [
      "================================\n",
      "139.34489585198304 149.4824404403407\n",
      "move hands close and raise up leg\n",
      "move hands close and raise up leg\n",
      "1/1 [==============================] - 0s 41ms/step\n"
     ]
    },
    {
     "name": "stderr",
     "output_type": "stream",
     "text": [
      "Exception in thread Thread-416 (speak_feedback):\n",
      "Traceback (most recent call last):\n",
      "  File \"C:\\Users\\HP\\AppData\\Local\\Programs\\Python\\Python310\\lib\\threading.py\", line 1016, in _bootstrap_inner\n",
      "    self.run()\n",
      "  File \"C:\\Users\\HP\\AppData\\Local\\Programs\\Python\\Python310\\lib\\threading.py\", line 953, in run\n",
      "    self._target(*self._args, **self._kwargs)\n",
      "  File \"C:\\Users\\HP\\AppData\\Local\\Temp\\ipykernel_26220\\1796462705.py\", line 11, in speak_feedback\n",
      "  File \"C:\\Users\\HP\\AppData\\Local\\Programs\\Python\\Python310\\lib\\site-packages\\pyttsx3\\engine.py\", line 177, in runAndWait\n",
      "    raise RuntimeError('run loop already started')\n",
      "RuntimeError: run loop already started\n"
     ]
    },
    {
     "name": "stdout",
     "output_type": "stream",
     "text": [
      "================================\n",
      "149.80654191322887 164.12495239907915\n",
      "move hands close and raise up leg\n",
      "move hands close and raise up leg\n",
      "1/1 [==============================] - 0s 43ms/step\n"
     ]
    },
    {
     "name": "stderr",
     "output_type": "stream",
     "text": [
      "Exception in thread Thread-417 (speak_feedback):\n",
      "Traceback (most recent call last):\n",
      "  File \"C:\\Users\\HP\\AppData\\Local\\Programs\\Python\\Python310\\lib\\threading.py\", line 1016, in _bootstrap_inner\n",
      "    self.run()\n",
      "  File \"C:\\Users\\HP\\AppData\\Local\\Programs\\Python\\Python310\\lib\\threading.py\", line 953, in run\n",
      "    self._target(*self._args, **self._kwargs)\n",
      "  File \"C:\\Users\\HP\\AppData\\Local\\Temp\\ipykernel_26220\\1796462705.py\", line 11, in speak_feedback\n",
      "  File \"C:\\Users\\HP\\AppData\\Local\\Programs\\Python\\Python310\\lib\\site-packages\\pyttsx3\\engine.py\", line 177, in runAndWait\n",
      "    raise RuntimeError('run loop already started')\n",
      "RuntimeError: run loop already started\n"
     ]
    },
    {
     "name": "stdout",
     "output_type": "stream",
     "text": [
      "================================\n",
      "118.2285921425101 123.23960402403117\n",
      "move hands close and raise up leg\n",
      "move hands close and raise up leg\n",
      "1/1 [==============================] - 0s 41ms/step\n"
     ]
    },
    {
     "name": "stderr",
     "output_type": "stream",
     "text": [
      "Exception in thread Thread-418 (speak_feedback):\n",
      "Traceback (most recent call last):\n",
      "  File \"C:\\Users\\HP\\AppData\\Local\\Programs\\Python\\Python310\\lib\\threading.py\", line 1016, in _bootstrap_inner\n",
      "    self.run()\n",
      "  File \"C:\\Users\\HP\\AppData\\Local\\Programs\\Python\\Python310\\lib\\threading.py\", line 953, in run\n",
      "    self._target(*self._args, **self._kwargs)\n",
      "  File \"C:\\Users\\HP\\AppData\\Local\\Temp\\ipykernel_26220\\1796462705.py\", line 11, in speak_feedback\n",
      "  File \"C:\\Users\\HP\\AppData\\Local\\Programs\\Python\\Python310\\lib\\site-packages\\pyttsx3\\engine.py\", line 177, in runAndWait\n",
      "    raise RuntimeError('run loop already started')\n",
      "RuntimeError: run loop already started\n"
     ]
    },
    {
     "name": "stdout",
     "output_type": "stream",
     "text": [
      "================================\n",
      "154.8967397978408 115.31261856362468\n",
      "move hands close and raise up leg\n",
      "move hands close and raise up leg\n",
      "1/1 [==============================] - 0s 42ms/step\n"
     ]
    },
    {
     "name": "stderr",
     "output_type": "stream",
     "text": [
      "Exception in thread Thread-419 (speak_feedback):\n",
      "Traceback (most recent call last):\n",
      "  File \"C:\\Users\\HP\\AppData\\Local\\Programs\\Python\\Python310\\lib\\threading.py\", line 1016, in _bootstrap_inner\n",
      "    self.run()\n",
      "  File \"C:\\Users\\HP\\AppData\\Local\\Programs\\Python\\Python310\\lib\\threading.py\", line 953, in run\n",
      "    self._target(*self._args, **self._kwargs)\n",
      "  File \"C:\\Users\\HP\\AppData\\Local\\Temp\\ipykernel_26220\\1796462705.py\", line 11, in speak_feedback\n",
      "  File \"C:\\Users\\HP\\AppData\\Local\\Programs\\Python\\Python310\\lib\\site-packages\\pyttsx3\\engine.py\", line 177, in runAndWait\n",
      "    raise RuntimeError('run loop already started')\n",
      "RuntimeError: run loop already started\n"
     ]
    },
    {
     "name": "stdout",
     "output_type": "stream",
     "text": [
      "================================\n",
      "149.5125412799876 137.48090776540573\n",
      "move hands close and raise up leg\n",
      "move hands close and raise up leg\n",
      "1/1 [==============================] - 0s 45ms/step\n"
     ]
    },
    {
     "name": "stderr",
     "output_type": "stream",
     "text": [
      "Exception in thread Thread-420 (speak_feedback):\n",
      "Traceback (most recent call last):\n",
      "  File \"C:\\Users\\HP\\AppData\\Local\\Programs\\Python\\Python310\\lib\\threading.py\", line 1016, in _bootstrap_inner\n",
      "    self.run()\n",
      "  File \"C:\\Users\\HP\\AppData\\Local\\Programs\\Python\\Python310\\lib\\threading.py\", line 953, in run\n",
      "    self._target(*self._args, **self._kwargs)\n",
      "  File \"C:\\Users\\HP\\AppData\\Local\\Temp\\ipykernel_26220\\1796462705.py\", line 11, in speak_feedback\n",
      "  File \"C:\\Users\\HP\\AppData\\Local\\Programs\\Python\\Python310\\lib\\site-packages\\pyttsx3\\engine.py\", line 177, in runAndWait\n",
      "    raise RuntimeError('run loop already started')\n",
      "RuntimeError: run loop already started\n"
     ]
    },
    {
     "name": "stdout",
     "output_type": "stream",
     "text": [
      "================================\n",
      "156.66843970627906 124.86793023030373\n",
      "move hands close and raise up leg\n",
      "move hands close and raise up leg\n",
      "1/1 [==============================] - 0s 38ms/step\n"
     ]
    },
    {
     "name": "stderr",
     "output_type": "stream",
     "text": [
      "Exception in thread Thread-421 (speak_feedback):\n",
      "Traceback (most recent call last):\n",
      "  File \"C:\\Users\\HP\\AppData\\Local\\Programs\\Python\\Python310\\lib\\threading.py\", line 1016, in _bootstrap_inner\n",
      "    self.run()\n",
      "  File \"C:\\Users\\HP\\AppData\\Local\\Programs\\Python\\Python310\\lib\\threading.py\", line 953, in run\n",
      "    self._target(*self._args, **self._kwargs)\n",
      "  File \"C:\\Users\\HP\\AppData\\Local\\Temp\\ipykernel_26220\\1796462705.py\", line 11, in speak_feedback\n",
      "  File \"C:\\Users\\HP\\AppData\\Local\\Programs\\Python\\Python310\\lib\\site-packages\\pyttsx3\\engine.py\", line 177, in runAndWait\n",
      "    raise RuntimeError('run loop already started')\n",
      "RuntimeError: run loop already started\n"
     ]
    },
    {
     "name": "stdout",
     "output_type": "stream",
     "text": [
      "================================\n",
      "149.57606760441325 148.5563866011825\n",
      "move hands close and raise up leg\n",
      "move hands close and raise up leg\n",
      "1/1 [==============================] - 0s 46ms/step\n"
     ]
    },
    {
     "name": "stderr",
     "output_type": "stream",
     "text": [
      "Exception in thread Thread-422 (speak_feedback):\n",
      "Traceback (most recent call last):\n",
      "  File \"C:\\Users\\HP\\AppData\\Local\\Programs\\Python\\Python310\\lib\\threading.py\", line 1016, in _bootstrap_inner\n",
      "    self.run()\n",
      "  File \"C:\\Users\\HP\\AppData\\Local\\Programs\\Python\\Python310\\lib\\threading.py\", line 953, in run\n",
      "    self._target(*self._args, **self._kwargs)\n",
      "  File \"C:\\Users\\HP\\AppData\\Local\\Temp\\ipykernel_26220\\1796462705.py\", line 11, in speak_feedback\n",
      "  File \"C:\\Users\\HP\\AppData\\Local\\Programs\\Python\\Python310\\lib\\site-packages\\pyttsx3\\engine.py\", line 177, in runAndWait\n",
      "    raise RuntimeError('run loop already started')\n",
      "RuntimeError: run loop already started\n"
     ]
    },
    {
     "name": "stdout",
     "output_type": "stream",
     "text": [
      "================================\n",
      "141.20906486483082 158.61904047118682\n",
      "move hands close and raise up leg\n",
      "move hands close and raise up leg\n",
      "1/1 [==============================] - 0s 59ms/step\n"
     ]
    },
    {
     "name": "stderr",
     "output_type": "stream",
     "text": [
      "Exception in thread Thread-423 (speak_feedback):\n",
      "Traceback (most recent call last):\n",
      "  File \"C:\\Users\\HP\\AppData\\Local\\Programs\\Python\\Python310\\lib\\threading.py\", line 1016, in _bootstrap_inner\n",
      "    self.run()\n",
      "  File \"C:\\Users\\HP\\AppData\\Local\\Programs\\Python\\Python310\\lib\\threading.py\", line 953, in run\n",
      "    self._target(*self._args, **self._kwargs)\n",
      "  File \"C:\\Users\\HP\\AppData\\Local\\Temp\\ipykernel_26220\\1796462705.py\", line 11, in speak_feedback\n",
      "  File \"C:\\Users\\HP\\AppData\\Local\\Programs\\Python\\Python310\\lib\\site-packages\\pyttsx3\\engine.py\", line 177, in runAndWait\n",
      "    raise RuntimeError('run loop already started')\n",
      "RuntimeError: run loop already started\n"
     ]
    },
    {
     "name": "stdout",
     "output_type": "stream",
     "text": [
      "================================\n",
      "123.1665539016173 133.76471881628578\n",
      "move hands close and raise up leg\n",
      "move hands close and raise up leg\n",
      "1/1 [==============================] - 0s 40ms/step\n"
     ]
    },
    {
     "name": "stderr",
     "output_type": "stream",
     "text": [
      "Exception in thread Thread-424 (speak_feedback):\n",
      "Traceback (most recent call last):\n",
      "  File \"C:\\Users\\HP\\AppData\\Local\\Programs\\Python\\Python310\\lib\\threading.py\", line 1016, in _bootstrap_inner\n",
      "    self.run()\n",
      "  File \"C:\\Users\\HP\\AppData\\Local\\Programs\\Python\\Python310\\lib\\threading.py\", line 953, in run\n",
      "    self._target(*self._args, **self._kwargs)\n",
      "  File \"C:\\Users\\HP\\AppData\\Local\\Temp\\ipykernel_26220\\1796462705.py\", line 11, in speak_feedback\n",
      "  File \"C:\\Users\\HP\\AppData\\Local\\Programs\\Python\\Python310\\lib\\site-packages\\pyttsx3\\engine.py\", line 177, in runAndWait\n",
      "    raise RuntimeError('run loop already started')\n",
      "RuntimeError: run loop already started\n"
     ]
    },
    {
     "name": "stdout",
     "output_type": "stream",
     "text": [
      "================================\n",
      "128.35108102388543 132.59336333316233\n",
      "move hands close and raise up leg\n",
      "move hands close and raise up leg\n",
      "1/1 [==============================] - 0s 39ms/step\n"
     ]
    },
    {
     "name": "stderr",
     "output_type": "stream",
     "text": [
      "Exception in thread Thread-425 (speak_feedback):\n",
      "Traceback (most recent call last):\n",
      "  File \"C:\\Users\\HP\\AppData\\Local\\Programs\\Python\\Python310\\lib\\threading.py\", line 1016, in _bootstrap_inner\n",
      "    self.run()\n",
      "  File \"C:\\Users\\HP\\AppData\\Local\\Programs\\Python\\Python310\\lib\\threading.py\", line 953, in run\n",
      "    self._target(*self._args, **self._kwargs)\n",
      "  File \"C:\\Users\\HP\\AppData\\Local\\Temp\\ipykernel_26220\\1796462705.py\", line 11, in speak_feedback\n",
      "  File \"C:\\Users\\HP\\AppData\\Local\\Programs\\Python\\Python310\\lib\\site-packages\\pyttsx3\\engine.py\", line 177, in runAndWait\n",
      "    raise RuntimeError('run loop already started')\n",
      "RuntimeError: run loop already started\n"
     ]
    },
    {
     "name": "stdout",
     "output_type": "stream",
     "text": [
      "================================\n",
      "145.0 136.69308687713507\n",
      "move hands close and raise up leg\n",
      "move hands close and raise up leg\n",
      "1/1 [==============================] - 0s 42ms/step\n"
     ]
    },
    {
     "name": "stderr",
     "output_type": "stream",
     "text": [
      "Exception in thread Thread-426 (speak_feedback):\n",
      "Traceback (most recent call last):\n",
      "  File \"C:\\Users\\HP\\AppData\\Local\\Programs\\Python\\Python310\\lib\\threading.py\", line 1016, in _bootstrap_inner\n",
      "    self.run()\n",
      "  File \"C:\\Users\\HP\\AppData\\Local\\Programs\\Python\\Python310\\lib\\threading.py\", line 953, in run\n",
      "    self._target(*self._args, **self._kwargs)\n",
      "  File \"C:\\Users\\HP\\AppData\\Local\\Temp\\ipykernel_26220\\1796462705.py\", line 11, in speak_feedback\n",
      "  File \"C:\\Users\\HP\\AppData\\Local\\Programs\\Python\\Python310\\lib\\site-packages\\pyttsx3\\engine.py\", line 177, in runAndWait\n",
      "    raise RuntimeError('run loop already started')\n",
      "RuntimeError: run loop already started\n"
     ]
    },
    {
     "name": "stdout",
     "output_type": "stream",
     "text": [
      "================================\n",
      "148.64723340849636 117.06835610018618\n",
      "move hands close and raise up leg\n",
      "move hands close and raise up leg\n",
      "1/1 [==============================] - 0s 42ms/step\n"
     ]
    },
    {
     "name": "stderr",
     "output_type": "stream",
     "text": [
      "Exception in thread Thread-427 (speak_feedback):\n",
      "Traceback (most recent call last):\n",
      "  File \"C:\\Users\\HP\\AppData\\Local\\Programs\\Python\\Python310\\lib\\threading.py\", line 1016, in _bootstrap_inner\n",
      "    self.run()\n",
      "  File \"C:\\Users\\HP\\AppData\\Local\\Programs\\Python\\Python310\\lib\\threading.py\", line 953, in run\n",
      "    self._target(*self._args, **self._kwargs)\n",
      "  File \"C:\\Users\\HP\\AppData\\Local\\Temp\\ipykernel_26220\\1796462705.py\", line 11, in speak_feedback\n",
      "  File \"C:\\Users\\HP\\AppData\\Local\\Programs\\Python\\Python310\\lib\\site-packages\\pyttsx3\\engine.py\", line 177, in runAndWait\n",
      "    raise RuntimeError('run loop already started')\n",
      "RuntimeError: run loop already started\n"
     ]
    },
    {
     "name": "stdout",
     "output_type": "stream",
     "text": [
      "================================\n",
      "131.94695904036593 117.88977903109328\n",
      "move hands close and raise up leg\n",
      "move hands close and raise up leg\n",
      "1/1 [==============================] - 0s 60ms/step\n"
     ]
    },
    {
     "name": "stderr",
     "output_type": "stream",
     "text": [
      "Exception in thread Thread-428 (speak_feedback):\n",
      "Traceback (most recent call last):\n",
      "  File \"C:\\Users\\HP\\AppData\\Local\\Programs\\Python\\Python310\\lib\\threading.py\", line 1016, in _bootstrap_inner\n",
      "    self.run()\n",
      "  File \"C:\\Users\\HP\\AppData\\Local\\Programs\\Python\\Python310\\lib\\threading.py\", line 953, in run\n",
      "    self._target(*self._args, **self._kwargs)\n",
      "  File \"C:\\Users\\HP\\AppData\\Local\\Temp\\ipykernel_26220\\1796462705.py\", line 11, in speak_feedback\n",
      "  File \"C:\\Users\\HP\\AppData\\Local\\Programs\\Python\\Python310\\lib\\site-packages\\pyttsx3\\engine.py\", line 177, in runAndWait\n",
      "    raise RuntimeError('run loop already started')\n",
      "RuntimeError: run loop already started\n"
     ]
    },
    {
     "name": "stdout",
     "output_type": "stream",
     "text": [
      "================================\n",
      "142.21462653327893 106.51291001564083\n",
      "move hands close and raise up leg\n",
      "move hands close and raise up leg\n",
      "1/1 [==============================] - 0s 45ms/step\n"
     ]
    },
    {
     "name": "stderr",
     "output_type": "stream",
     "text": [
      "Exception in thread Thread-429 (speak_feedback):\n",
      "Traceback (most recent call last):\n",
      "  File \"C:\\Users\\HP\\AppData\\Local\\Programs\\Python\\Python310\\lib\\threading.py\", line 1016, in _bootstrap_inner\n",
      "    self.run()\n",
      "  File \"C:\\Users\\HP\\AppData\\Local\\Programs\\Python\\Python310\\lib\\threading.py\", line 953, in run\n",
      "    self._target(*self._args, **self._kwargs)\n",
      "  File \"C:\\Users\\HP\\AppData\\Local\\Temp\\ipykernel_26220\\1796462705.py\", line 11, in speak_feedback\n",
      "  File \"C:\\Users\\HP\\AppData\\Local\\Programs\\Python\\Python310\\lib\\site-packages\\pyttsx3\\engine.py\", line 177, in runAndWait\n",
      "    raise RuntimeError('run loop already started')\n",
      "RuntimeError: run loop already started\n"
     ]
    },
    {
     "name": "stdout",
     "output_type": "stream",
     "text": [
      "================================\n",
      "136.82105101189657 126.87395319765204\n",
      "move hands close and raise up leg\n",
      "move hands close and raise up leg\n",
      "1/1 [==============================] - 0s 49ms/step\n"
     ]
    },
    {
     "name": "stderr",
     "output_type": "stream",
     "text": [
      "Exception in thread Thread-430 (speak_feedback):\n",
      "Traceback (most recent call last):\n",
      "  File \"C:\\Users\\HP\\AppData\\Local\\Programs\\Python\\Python310\\lib\\threading.py\", line 1016, in _bootstrap_inner\n",
      "    self.run()\n",
      "  File \"C:\\Users\\HP\\AppData\\Local\\Programs\\Python\\Python310\\lib\\threading.py\", line 953, in run\n",
      "    self._target(*self._args, **self._kwargs)\n",
      "  File \"C:\\Users\\HP\\AppData\\Local\\Temp\\ipykernel_26220\\1796462705.py\", line 11, in speak_feedback\n",
      "  File \"C:\\Users\\HP\\AppData\\Local\\Programs\\Python\\Python310\\lib\\site-packages\\pyttsx3\\engine.py\", line 177, in runAndWait\n",
      "    raise RuntimeError('run loop already started')\n",
      "RuntimeError: run loop already started\n"
     ]
    },
    {
     "name": "stdout",
     "output_type": "stream",
     "text": [
      "================================\n",
      "120.06664815842908 110.25878649794764\n",
      "move hands close and raise up leg\n",
      "move hands close and raise up leg\n",
      "1/1 [==============================] - 0s 48ms/step\n"
     ]
    },
    {
     "name": "stderr",
     "output_type": "stream",
     "text": [
      "Exception in thread Thread-431 (speak_feedback):\n",
      "Traceback (most recent call last):\n",
      "  File \"C:\\Users\\HP\\AppData\\Local\\Programs\\Python\\Python310\\lib\\threading.py\", line 1016, in _bootstrap_inner\n",
      "    self.run()\n",
      "  File \"C:\\Users\\HP\\AppData\\Local\\Programs\\Python\\Python310\\lib\\threading.py\", line 953, in run\n",
      "    self._target(*self._args, **self._kwargs)\n",
      "  File \"C:\\Users\\HP\\AppData\\Local\\Temp\\ipykernel_26220\\1796462705.py\", line 11, in speak_feedback\n",
      "  File \"C:\\Users\\HP\\AppData\\Local\\Programs\\Python\\Python310\\lib\\site-packages\\pyttsx3\\engine.py\", line 177, in runAndWait\n",
      "    raise RuntimeError('run loop already started')\n",
      "RuntimeError: run loop already started\n"
     ]
    },
    {
     "name": "stdout",
     "output_type": "stream",
     "text": [
      "================================\n",
      "131.88252348207476 109.41663493271945\n",
      "move hands close and raise up leg\n",
      "move hands close and raise up leg\n",
      "1/1 [==============================] - 0s 45ms/step\n"
     ]
    },
    {
     "name": "stderr",
     "output_type": "stream",
     "text": [
      "Exception in thread Thread-432 (speak_feedback):\n",
      "Traceback (most recent call last):\n",
      "  File \"C:\\Users\\HP\\AppData\\Local\\Programs\\Python\\Python310\\lib\\threading.py\", line 1016, in _bootstrap_inner\n",
      "    self.run()\n",
      "  File \"C:\\Users\\HP\\AppData\\Local\\Programs\\Python\\Python310\\lib\\threading.py\", line 953, in run\n",
      "    self._target(*self._args, **self._kwargs)\n",
      "  File \"C:\\Users\\HP\\AppData\\Local\\Temp\\ipykernel_26220\\1796462705.py\", line 11, in speak_feedback\n",
      "  File \"C:\\Users\\HP\\AppData\\Local\\Programs\\Python\\Python310\\lib\\site-packages\\pyttsx3\\engine.py\", line 177, in runAndWait\n",
      "    raise RuntimeError('run loop already started')\n",
      "RuntimeError: run loop already started\n"
     ]
    },
    {
     "name": "stdout",
     "output_type": "stream",
     "text": [
      "================================\n",
      "142.1724305201258 114.03946685248927\n",
      "move hands close and raise up leg\n",
      "move hands close and raise up leg\n",
      "1/1 [==============================] - 0s 39ms/step\n",
      "================================\n",
      "42.720018726587654 97.04638066409278\n",
      "1/1 [==============================] - 0s 45ms/step\n",
      "================================\n",
      "38.948684188300895 47.29693436154187\n",
      "1/1 [==============================] - 0s 46ms/step\n"
     ]
    },
    {
     "name": "stderr",
     "output_type": "stream",
     "text": [
      "Exception in thread Thread-433 (speak_feedback):\n",
      "Traceback (most recent call last):\n",
      "  File \"C:\\Users\\HP\\AppData\\Local\\Programs\\Python\\Python310\\lib\\threading.py\", line 1016, in _bootstrap_inner\n",
      "    self.run()\n",
      "  File \"C:\\Users\\HP\\AppData\\Local\\Programs\\Python\\Python310\\lib\\threading.py\", line 953, in run\n",
      "    self._target(*self._args, **self._kwargs)\n",
      "  File \"C:\\Users\\HP\\AppData\\Local\\Temp\\ipykernel_26220\\1796462705.py\", line 11, in speak_feedback\n",
      "  File \"C:\\Users\\HP\\AppData\\Local\\Programs\\Python\\Python310\\lib\\site-packages\\pyttsx3\\engine.py\", line 177, in runAndWait\n",
      "    raise RuntimeError('run loop already started')\n",
      "RuntimeError: run loop already started\n"
     ]
    },
    {
     "name": "stdout",
     "output_type": "stream",
     "text": [
      "================================\n",
      "65.85590330410783 62.96824596572466\n",
      "move hands close and raise up leg\n",
      "move hands close and raise up leg\n",
      "1/1 [==============================] - 0s 45ms/step\n"
     ]
    },
    {
     "name": "stderr",
     "output_type": "stream",
     "text": [
      "Exception in thread Thread-434 (speak_feedback):\n",
      "Traceback (most recent call last):\n",
      "  File \"C:\\Users\\HP\\AppData\\Local\\Programs\\Python\\Python310\\lib\\threading.py\", line 1016, in _bootstrap_inner\n",
      "    self.run()\n",
      "  File \"C:\\Users\\HP\\AppData\\Local\\Programs\\Python\\Python310\\lib\\threading.py\", line 953, in run\n",
      "    self._target(*self._args, **self._kwargs)\n",
      "  File \"C:\\Users\\HP\\AppData\\Local\\Temp\\ipykernel_26220\\1796462705.py\", line 11, in speak_feedback\n",
      "  File \"C:\\Users\\HP\\AppData\\Local\\Programs\\Python\\Python310\\lib\\site-packages\\pyttsx3\\engine.py\", line 177, in runAndWait\n",
      "    raise RuntimeError('run loop already started')\n",
      "RuntimeError: run loop already started\n"
     ]
    },
    {
     "name": "stdout",
     "output_type": "stream",
     "text": [
      "================================\n",
      "58.52349955359813 89.56003573022959\n",
      "move hands close and raise up leg\n",
      "move hands close and raise up leg\n",
      "1/1 [==============================] - 0s 45ms/step\n"
     ]
    },
    {
     "name": "stderr",
     "output_type": "stream",
     "text": [
      "Exception in thread Thread-435 (speak_feedback):\n",
      "Traceback (most recent call last):\n",
      "  File \"C:\\Users\\HP\\AppData\\Local\\Programs\\Python\\Python310\\lib\\threading.py\", line 1016, in _bootstrap_inner\n",
      "    self.run()\n",
      "  File \"C:\\Users\\HP\\AppData\\Local\\Programs\\Python\\Python310\\lib\\threading.py\", line 953, in run\n",
      "    self._target(*self._args, **self._kwargs)\n",
      "  File \"C:\\Users\\HP\\AppData\\Local\\Temp\\ipykernel_26220\\1796462705.py\", line 11, in speak_feedback\n",
      "  File \"C:\\Users\\HP\\AppData\\Local\\Programs\\Python\\Python310\\lib\\site-packages\\pyttsx3\\engine.py\", line 177, in runAndWait\n",
      "    raise RuntimeError('run loop already started')\n",
      "RuntimeError: run loop already started\n"
     ]
    },
    {
     "name": "stdout",
     "output_type": "stream",
     "text": [
      "================================\n",
      "53.48831648126533 103.40696301506973\n",
      "move hands close and raise up leg\n",
      "move hands close and raise up leg\n",
      "1/1 [==============================] - 0s 41ms/step\n",
      "================================\n",
      "25.0 92.22797840135064\n",
      "1/1 [==============================] - 0s 43ms/step\n",
      "================================\n",
      "32.89376840679705 97.12878049270464\n",
      "1/1 [==============================] - 0s 42ms/step\n"
     ]
    },
    {
     "name": "stderr",
     "output_type": "stream",
     "text": [
      "127.0.0.1 - - [03/May/2024 03:47:05] \"GET / HTTP/1.1\" 200 -\n"
     ]
    },
    {
     "name": "stdout",
     "output_type": "stream",
     "text": [
      "================================\n",
      "25.612496949731394 113.8859078200635\n"
     ]
    },
    {
     "name": "stderr",
     "output_type": "stream",
     "text": [
      "127.0.0.1 - - [03/May/2024 03:47:06] \"GET /static/yoga_pose.png HTTP/1.1\" 304 -\n",
      "127.0.0.1 - - [03/May/2024 03:47:06] \"GET /highLightTitle.png HTTP/1.1\" 404 -\n"
     ]
    },
    {
     "name": "stdout",
     "output_type": "stream",
     "text": [
      "1/1 [==============================] - 0s 39ms/step\n",
      "================================\n",
      "19.313207915827967 103.74005976477939\n"
     ]
    }
   ],
   "source": [
    "app = Flask(__name__)\n",
    "app.config['STATIC_FOLDER'] = 'static'\n",
    "\n",
    "@app.route('/')\n",
    "def home():\n",
    "    return render_template('index.html')\n",
    "\n",
    "@app.route('/about')\n",
    "def about():\n",
    "    return render_template('about.html')\n",
    "\n",
    "@app.route('/tutorials')\n",
    "def tutorials():\n",
    "    tutorialspoints = [\n",
    "        '1. When App ask for permission of camera, allow it to access to capture pose.',\n",
    "        '2. Select what pose you want to do in the dropdown.',\n",
    "        '3. Read Instructions of that pose so you will know how to do that pose.',\n",
    "        '4. Click on Start pose and see the image of the that pose in the right side and replicate that image in front of camera.',\n",
    "        '5. If you will do correctly the skeleton over the video will become green in color and sound will start playing'\n",
    "    ]\n",
    "\n",
    "    fix_camera_points = [\n",
    "        'Solution 1. Make sure you have allowed the permission of camera, if you have denied the permission, go to setting of your browser to allow the access of camera to the application.',\n",
    "        'Solution 2. Make sure no any other application is not accessing camera at that time, if yes, close that application',\n",
    "        'Solution 3. Try to close all the other opened browsers'\n",
    "    ]\n",
    "    return render_template('tutorials.html', tutorialspoints=tutorialspoints, fix_camera_points=fix_camera_points)\n",
    "\n",
    "@app.route('/pose')\n",
    "def pose():\n",
    "    # code to start the tutorial goes here\n",
    "    return render_template('pose.html')\n",
    "\n",
    "@app.route('/selected_pose', methods=['POST'])\n",
    "def selected_pose():\n",
    "    selected_pose = request.form['selected_pose']\n",
    "#     print(selected_pose)\n",
    "    # Redirect to yoga.html with the selected pose as a URL parameter\n",
    "    return redirect(url_for('yoga', pose=selected_pose))\n",
    "\n",
    "@app.route('/yoga')\n",
    "def yoga():\n",
    "    # code to start the tutorial goes here\n",
    "    selected_pose = request.args.get('pose')\n",
    "    pose = selected_pose.split()\n",
    "    print(pose[0])\n",
    "    return render_template('yoga.html', pose=selected_pose, posename = pose[0])\n",
    "\n",
    "@app.route('/video_feed/<string:posename>')\n",
    "def video_feed(posename):\n",
    "    print(\"helloworld\", posename)\n",
    "    return Response(webcamlive(posename), mimetype='multipart/x-mixed-replace; boundary=frame')\n",
    "\n",
    "\n",
    "if __name__ == '__main__':\n",
    "    app.run(port = 5009)"
   ]
  },
  {
   "cell_type": "code",
   "execution_count": 86,
   "id": "b4248e13",
   "metadata": {},
   "outputs": [
    {
     "name": "stdout",
     "output_type": "stream",
     "text": [
      "(720, 1600, 3)\n"
     ]
    }
   ],
   "source": [
    "import cv2\n",
    "img = cv2.imread(\"wrongoutput/t5.jpeg\")\n",
    "image = img.copy()\n",
    "print(image.shape)"
   ]
  },
  {
   "cell_type": "code",
   "execution_count": 87,
   "id": "5c0b244a",
   "metadata": {},
   "outputs": [],
   "source": [
    "interpreter = tf.lite.Interpreter(model_path='movenet_thunder.tflite')\n",
    "interpreter.allocate_tensors()"
   ]
  },
  {
   "cell_type": "code",
   "execution_count": 88,
   "id": "696d1a7d",
   "metadata": {},
   "outputs": [],
   "source": [
    "# Setup input and output \n",
    "input_details = interpreter.get_input_details()\n",
    "output_details = interpreter.get_output_details()"
   ]
  },
  {
   "cell_type": "code",
   "execution_count": 89,
   "id": "3d8df731",
   "metadata": {},
   "outputs": [
    {
     "name": "stdout",
     "output_type": "stream",
     "text": [
      "[{'name': 'serving_default_input:0', 'index': 0, 'shape': array([  1, 256, 256,   3]), 'shape_signature': array([  1, 256, 256,   3]), 'dtype': <class 'numpy.uint8'>, 'quantization': (0.0, 0), 'quantization_parameters': {'scales': array([], dtype=float32), 'zero_points': array([], dtype=int32), 'quantized_dimension': 0}, 'sparsity_parameters': {}}]\n"
     ]
    }
   ],
   "source": [
    "print(input_details)"
   ]
  },
  {
   "cell_type": "code",
   "execution_count": 90,
   "id": "0e0218af",
   "metadata": {},
   "outputs": [],
   "source": [
    "# Reshape image\n",
    "img = tf.image.resize_with_pad(np.expand_dims(img, axis=0), 256, 256)\n",
    "input_image = tf.cast(img, dtype=tf.float32)\n",
    "input_image_uint8 = tf.cast(input_image, dtype=tf.uint8)"
   ]
  },
  {
   "cell_type": "code",
   "execution_count": 91,
   "id": "98e91997",
   "metadata": {},
   "outputs": [],
   "source": [
    "# Make predictions \n",
    "interpreter.set_tensor(input_details[0]['index'], input_image_uint8)\n",
    "interpreter.invoke()\n",
    "keypoints_with_scores = interpreter.get_tensor(output_details[0]['index'])"
   ]
  },
  {
   "cell_type": "code",
   "execution_count": 92,
   "id": "93985bd4",
   "metadata": {},
   "outputs": [
    {
     "data": {
      "text/plain": [
       "array([[[[0.34090889, 0.48278055, 0.41717806],\n",
       "         [0.33054292, 0.49123546, 0.51706755],\n",
       "         [0.33113283, 0.4728832 , 0.53847754],\n",
       "         [0.33332554, 0.50407875, 0.66126037],\n",
       "         [0.33597133, 0.4637989 , 0.6277391 ],\n",
       "         [0.378176  , 0.5285764 , 0.6585832 ],\n",
       "         [0.37626514, 0.43693903, 0.6390307 ],\n",
       "         [0.43084398, 0.5429869 , 0.5669414 ],\n",
       "         [0.43405414, 0.42297626, 0.48063618],\n",
       "         [0.50046957, 0.54144   , 0.5815531 ],\n",
       "         [0.50228095, 0.429308  , 0.5032001 ],\n",
       "         [0.50320095, 0.5107298 , 0.76098   ],\n",
       "         [0.5060023 , 0.45689803, 0.7384901 ],\n",
       "         [0.6058106 , 0.49681464, 0.4080572 ],\n",
       "         [0.59898496, 0.46916273, 0.47656065],\n",
       "         [0.6763987 , 0.4894029 , 0.47491655],\n",
       "         [0.670391  , 0.47401768, 0.4961897 ]]]], dtype=float32)"
      ]
     },
     "execution_count": 92,
     "metadata": {},
     "output_type": "execute_result"
    }
   ],
   "source": [
    "keypoints_with_scores"
   ]
  },
  {
   "cell_type": "code",
   "execution_count": 93,
   "id": "c1a04674",
   "metadata": {},
   "outputs": [
    {
     "name": "stdout",
     "output_type": "stream",
     "text": [
      "(256, 256, 3)\n"
     ]
    }
   ],
   "source": [
    "EDGES = {\n",
    "    (0, 1): 'm',\n",
    "    (0, 2): 'c',\n",
    "    (1, 3): 'm',\n",
    "    (2, 4): 'c',\n",
    "    (0, 5): 'm',\n",
    "    (0, 6): 'c',\n",
    "    (5, 7): 'm',\n",
    "    (7, 9): 'm',\n",
    "    (6, 8): 'c',\n",
    "    (8, 10): 'c',\n",
    "    (5, 6): 'y',\n",
    "    (5, 11): 'm',\n",
    "    (6, 12): 'c',\n",
    "    (11, 12): 'y',\n",
    "    (11, 13): 'm',\n",
    "    (13, 15): 'm',\n",
    "    (12, 14): 'c',\n",
    "    (14, 16): 'c'\n",
    "}\n",
    "\n",
    "def draw_keypoints(frame, keypoints, confidence_threshold):\n",
    "    y, x, c = frame.shape\n",
    "    shaped = np.squeeze(np.multiply(keypoints, [y,x,1]))\n",
    "    \n",
    "    for kp in shaped:\n",
    "        ky, kx, kp_conf = kp\n",
    "        if kp_conf > confidence_threshold:\n",
    "            cv2.circle(frame, (int(kx), int(ky)), 4, (0,255,0), -1) \n",
    "            \n",
    "            \n",
    "def draw_connections(frame, keypoints, edges, confidence_threshold):\n",
    "    print(frame.shape)\n",
    "    y, x, c = frame.shape\n",
    "    shaped = np.squeeze(np.multiply(keypoints, [y,x,1]))\n",
    "    for edge, color in edges.items():\n",
    "        p1, p2 = edge\n",
    "        y1, x1, c1 = shaped[p1]\n",
    "        y2, x2, c2 = shaped[p2]\n",
    "        \n",
    "        if (c1 > confidence_threshold) & (c2 > confidence_threshold):      \n",
    "            cv2.line(frame, (int(x1), int(y1)), (int(x2), int(y2)), (0,0,255), 2)\n",
    "image = cv2.resize(image, (256, 256))\n",
    "draw_connections(image, keypoints_with_scores, EDGES, 0.4)\n",
    "draw_keypoints(image, keypoints_with_scores, 0.4)"
   ]
  },
  {
   "cell_type": "code",
   "execution_count": 94,
   "id": "fc119a5b",
   "metadata": {},
   "outputs": [],
   "source": [
    "image = cv2.resize(image, (256, 256))\n",
    "cv2.imshow('MoveNet Lightning', image)\n",
    "\n",
    "cv2.waitKey(0)\n",
    "cv2.destroyAllWindows()"
   ]
  },
  {
   "cell_type": "code",
   "execution_count": 95,
   "id": "34a63506",
   "metadata": {},
   "outputs": [],
   "source": [
    "right_eye = keypoints_with_scores[0][0][2]\n",
    "left_elbow = keypoints_with_scores[0][0][7]"
   ]
  },
  {
   "cell_type": "code",
   "execution_count": 97,
   "id": "a8ec249a",
   "metadata": {},
   "outputs": [
    {
     "name": "stdout",
     "output_type": "stream",
     "text": [
      "[ 84.770004 121.0581   137.85025 ]\n"
     ]
    }
   ],
   "source": [
    "print(right_eye*img.shape[1])"
   ]
  },
  {
   "cell_type": "code",
   "execution_count": null,
   "id": "adbce34f",
   "metadata": {},
   "outputs": [],
   "source": []
  }
 ],
 "metadata": {
  "kernelspec": {
   "display_name": "Python 3 (ipykernel)",
   "language": "python",
   "name": "python3"
  },
  "language_info": {
   "codemirror_mode": {
    "name": "ipython",
    "version": 3
   },
   "file_extension": ".py",
   "mimetype": "text/x-python",
   "name": "python",
   "nbconvert_exporter": "python",
   "pygments_lexer": "ipython3",
   "version": "3.10.7"
  }
 },
 "nbformat": 4,
 "nbformat_minor": 5
}
